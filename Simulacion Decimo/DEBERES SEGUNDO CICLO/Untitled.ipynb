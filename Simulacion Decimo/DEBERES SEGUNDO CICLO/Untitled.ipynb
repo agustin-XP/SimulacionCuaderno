{
 "cells": [
  {
   "cell_type": "markdown",
   "metadata": {},
   "source": [
    "## Nombre: Jose Atariguano\n",
    "\n",
    " \n",
    "### Objetvo: Desarrollar un metodo que permita generar numeros psuedoaleatorios, por medio del metodo de congruencias lineales"
   ]
  },
  {
   "cell_type": "code",
   "execution_count": 1,
   "metadata": {},
   "outputs": [],
   "source": [
    "import simpy\n",
    "import random\n",
    "import matplotlib.pyplot as pp\n",
    "import numpy as np\n",
    "import math\n",
    "from tabulate import tabulate\n",
    "from prettytable import PrettyTable"
   ]
  },
  {
   "cell_type": "code",
   "execution_count": 8,
   "metadata": {},
   "outputs": [
    {
     "name": "stdout",
     "output_type": "stream",
     "text": [
      "Valor del Multilicador a: 3\n",
      "Valor del Incremento b: 5\n",
      "Valor del Modulo m: 19\n",
      "Numero de la Semilla: 1\n",
      "Numero Iteraciones: 20\n"
     ]
    }
   ],
   "source": [
    "a=-1\n",
    "b=-1\n",
    "m=-1\n",
    "while(a<0):\n",
    "    a=int(input(\"Valor del Multilicador a: \"))\n",
    "while(b<0):\n",
    "    b=int(input(\"Valor del Incremento b: \" ))\n",
    "while(m<0):\n",
    "    m=int(input(\"Valor del Modulo m: \"))\n",
    "x0=int(input(\"Numero de la Semilla: \"))\n",
    "itera=int(input(\"Numero Iteraciones: \"))\n",
    "xn=0\n",
    "ui=0\n"
   ]
  },
  {
   "cell_type": "code",
   "execution_count": 10,
   "metadata": {},
   "outputs": [
    {
     "name": "stdout",
     "output_type": "stream",
     "text": [
      "+-----------+----+---------------------+\n",
      "| Iteracion | Xn |          Ui         |\n",
      "+-----------+----+---------------------+\n",
      "|     0     | 1  |                     |\n",
      "|     1     | 8  | 0.42105263157894735 |\n",
      "|     2     | 10 |  0.5263157894736842 |\n",
      "|     3     | 16 |  0.8421052631578947 |\n",
      "|     4     | 15 |  0.7894736842105263 |\n",
      "|     5     | 12 |  0.631578947368421  |\n",
      "|     6     | 3  | 0.15789473684210525 |\n",
      "|     7     | 14 |  0.7368421052631579 |\n",
      "|     8     | 9  | 0.47368421052631576 |\n",
      "|     9     | 13 |  0.6842105263157895 |\n",
      "|     10    | 6  |  0.3157894736842105 |\n",
      "|     11    | 4  | 0.21052631578947367 |\n",
      "|     12    | 17 |  0.8947368421052632 |\n",
      "|     13    | 18 |  0.9473684210526315 |\n",
      "|     14    | 2  | 0.10526315789473684 |\n",
      "|     15    | 11 |  0.5789473684210527 |\n",
      "|     16    | 0  |         0.0         |\n",
      "|     17    | 5  |  0.2631578947368421 |\n",
      "|     18    | 1  | 0.05263157894736842 |\n",
      "|     19    | 8  | 0.42105263157894735 |\n",
      "|     20    | 10 |  0.5263157894736842 |\n",
      "+-----------+----+---------------------+\n"
     ]
    }
   ],
   "source": [
    "tabla = PrettyTable()\n",
    "\n",
    "tabla.field_names =['Iteracion','Xn','Ui']\n",
    "\n",
    "aux=0\n",
    "xn=x0\n",
    "tabla.add_row([0,xn, \"  \"])\n",
    "    \n",
    "for i in range(1,itera+1):\n",
    "   \n",
    "    aux=((a*xn)+b)%(m)\n",
    "    ui=aux/m\n",
    "    xn=aux\n",
    "    tabla.add_row([i,xn,ui])\n",
    "print(tabla)\n",
    "    \n",
    "    "
   ]
  },
  {
   "cell_type": "markdown",
   "metadata": {},
   "source": [
    "# Conclusion:\n",
    "\n",
    "Se ha logrado desarrollar un algoritmo que permita generar numeros aleatorios usando el metodo de congruencias lineales\n",
    " y he logado entender como es la logica detras de la creacion de los nuero aleartorios."
   ]
  }
 ],
 "metadata": {
  "kernelspec": {
   "display_name": "Python 3",
   "language": "python",
   "name": "python3"
  },
  "language_info": {
   "codemirror_mode": {
    "name": "ipython",
    "version": 3
   },
   "file_extension": ".py",
   "mimetype": "text/x-python",
   "name": "python",
   "nbconvert_exporter": "python",
   "pygments_lexer": "ipython3",
   "version": "3.7.3"
  }
 },
 "nbformat": 4,
 "nbformat_minor": 4
}
