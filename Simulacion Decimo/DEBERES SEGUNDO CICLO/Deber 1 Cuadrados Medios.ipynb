{
 "cells": [
  {
   "cell_type": "markdown",
   "metadata": {},
   "source": []
  },
  {
   "cell_type": "markdown",
   "metadata": {},
   "source": [
    "## Nombre: Jose Atariguano\n",
    "\n",
    " \n",
    "### Objetvo: Desarrollar un metodo que permita generar numeros psuedoaleatorios, por medio del metodo de los cuadrados medios"
   ]
  },
  {
   "cell_type": "code",
   "execution_count": 1,
   "metadata": {},
   "outputs": [],
   "source": [
    "import simpy\n",
    "import random\n",
    "import matplotlib.pyplot as pp\n",
    "import numpy as np\n",
    "import math\n",
    "from tabulate import tabulate\n",
    "from prettytable import PrettyTable"
   ]
  },
  {
   "cell_type": "code",
   "execution_count": 2,
   "metadata": {},
   "outputs": [
    {
     "name": "stdout",
     "output_type": "stream",
     "text": [
      "Numero de la Semilla: 8370\n",
      "Cantidad de Interaciones: 10\n",
      "Numero de Digitos: 4\n"
     ]
    }
   ],
   "source": [
    "x0I= int(input(\"Numero de la Semilla: \"))\n",
    "itera= int(input(\"Cantidad de Interaciones: \"))\n",
    "digitos=int(input(\"Numero de Digitos: \"))\n",
    "xn=0\n",
    "xn2=0\n",
    "largo=8\n",
    "rn=0\n",
    "ui=0\n"
   ]
  },
  {
   "cell_type": "code",
   "execution_count": 5,
   "metadata": {},
   "outputs": [
    {
     "name": "stdout",
     "output_type": "stream",
     "text": [
      "+-----------+------+----------+----------+------+--------+\n",
      "| Iteracion |  Xn  |   Xn^2   | Longitud |  Ui  |   Rn   |\n",
      "+-----------+------+----------+----------+------+--------+\n",
      "|     0     | 8370 | 70056900 |    8     | 569  | 0.0569 |\n",
      "|     1     | 569  |  323761  |    6     | 2376 | 0.2376 |\n",
      "|     2     | 2376 | 5645376  |    7     | 6453 | 0.6453 |\n",
      "|     3     | 6453 | 41641209 |    8     | 6412 | 0.6412 |\n",
      "|     4     | 6412 | 41113744 |    8     | 1137 | 0.1137 |\n",
      "|     5     | 1137 | 1292769  |    7     | 2927 | 0.2927 |\n",
      "|     6     | 2927 | 8567329  |    7     | 5673 | 0.5673 |\n",
      "|     7     | 5673 | 32182929 |    8     | 1829 | 0.1829 |\n",
      "|     8     | 1829 | 3345241  |    7     | 3452 | 0.3452 |\n",
      "|     9     | 3452 | 11916304 |    8     | 9163 | 0.9163 |\n",
      "|     10    | 9163 | 83960569 |    8     | 9605 | 0.9605 |\n",
      "+-----------+------+----------+----------+------+--------+\n"
     ]
    }
   ],
   "source": [
    "tabla = PrettyTable()\n",
    "\n",
    "tabla.field_names =['Iteracion','Xn','Xn^2','Longitud','Ui','Rn']\n",
    "x0=x0I\n",
    "for i in range(0,itera+1):\n",
    "    \n",
    "    xn=x0\n",
    "    xn2=pow(xn,2)\n",
    "    largo=(len(str(xn2)))\n",
    "    k=((largo/2)-(digitos/2))\n",
    "    l=((largo/2)+(digitos/2))\n",
    "    ui=(int(str(xn2)[int(k):int(l)]))\n",
    "    rn=(ui/10000)\n",
    "    x0=ui\n",
    "    tabla.add_row([i,xn,xn2,largo,ui,rn])\n",
    "\n",
    "#resultado = {\"Iteracion\":[mat[:,0]],\"Xn\":[mat[:,1]],\"Xn^2\":[mat[:,2]],\"XO\":[mat[:,3]],\"XO\":[mat[:,4]]}\n",
    "#print(tabulate(resultado,headers='keys', tablefmt='fancy_grid'))\n",
    "#tabla.add_row(mat[:,0],mat[:,0],mat[:,2],mat[:,2],mat[:,3],mat[:,2])\n",
    "print(tabla)\n"
   ]
  },
  {
   "cell_type": "markdown",
   "metadata": {},
   "source": [
    "en el siguinet codigo realizo una validacion que tome un dato si hacia la derecha si el dato es cero en la izquierda dado que, como en el caso anterior quedan 3 digitos por el cero inicial. "
   ]
  },
  {
   "cell_type": "code",
   "execution_count": 6,
   "metadata": {},
   "outputs": [
    {
     "name": "stdout",
     "output_type": "stream",
     "text": [
      "+-----------+------+----------+----------+------+--------+\n",
      "| Iteracion |  Xn  |   Xn^2   | Longitud |  Ui  |   Rn   |\n",
      "+-----------+------+----------+----------+------+--------+\n",
      "|     0     | 8370 | 70056900 |    8     | 5690 | 0.569  |\n",
      "|     1     | 5690 | 32376100 |    8     | 3761 | 0.3761 |\n",
      "|     2     | 3761 | 14145121 |    8     | 1451 | 0.1451 |\n",
      "|     3     | 1451 | 2105401  |    7     | 1054 | 0.1054 |\n",
      "|     4     | 1054 | 1110916  |    7     | 1109 | 0.1109 |\n",
      "|     5     | 1109 | 1229881  |    7     | 2298 | 0.2298 |\n",
      "|     6     | 2298 | 5280804  |    7     | 2808 | 0.2808 |\n",
      "|     7     | 2808 | 7884864  |    7     | 8848 | 0.8848 |\n",
      "|     8     | 8848 | 78287104 |    8     | 2871 | 0.2871 |\n",
      "|     9     | 2871 | 8242641  |    7     | 2426 | 0.2426 |\n",
      "|     10    | 2426 | 5885476  |    7     | 8854 | 0.8854 |\n",
      "+-----------+------+----------+----------+------+--------+\n"
     ]
    }
   ],
   "source": [
    "\n",
    "tabla = PrettyTable()\n",
    "\n",
    "tabla.field_names =['Iteracion','Xn','Xn^2','Longitud','Ui','Rn']\n",
    "x0=x0I\n",
    "for i in range(0,itera+1):\n",
    "    \n",
    "    xn=x0\n",
    "    xn2=pow(xn,2)\n",
    "    largo=(len(str(xn2)))\n",
    "    k=((largo/2)-(digitos/2))\n",
    "    l=((largo/2)+(digitos/2))\n",
    "    ui=(int(str(xn2)[int(k):int(l)]))\n",
    "    \n",
    "    if len(str(ui))<digitos:\n",
    "        k=((largo/2)-(digitos/2))\n",
    "        l=((largo/2)+(digitos/2)+1)\n",
    "        ui=(int(str(xn2)[int(k):int(l)]))        \n",
    "   \n",
    "    rn=(ui/10000)\n",
    "    x0=ui\n",
    "    tabla.add_row([i,xn,xn2,largo,ui,rn])\n",
    "\n",
    "#resultado = {\"Iteracion\":[mat[:,0]],\"Xn\":[mat[:,1]],\"Xn^2\":[mat[:,2]],\"XO\":[mat[:,3]],\"XO\":[mat[:,4]]}\n",
    "#print(tabulate(resultado,headers='keys', tablefmt='fancy_grid'))\n",
    "#tabla.add_row(mat[:,0],mat[:,0],mat[:,2],mat[:,2],mat[:,3],mat[:,2])\n",
    "print(tabla)\n"
   ]
  },
  {
   "cell_type": "markdown",
   "metadata": {},
   "source": [
    "# Conclusion:\n",
    "\n",
    "Se ha logrado desarrollar un algoritmo que permita generar numeros aleatorios usando el metodo de los cuadrados medios."
   ]
  }
 ],
 "metadata": {
  "kernelspec": {
   "display_name": "Python 3",
   "language": "python",
   "name": "python3"
  },
  "language_info": {
   "codemirror_mode": {
    "name": "ipython",
    "version": 3
   },
   "file_extension": ".py",
   "mimetype": "text/x-python",
   "name": "python",
   "nbconvert_exporter": "python",
   "pygments_lexer": "ipython3",
   "version": "3.7.3"
  }
 },
 "nbformat": 4,
 "nbformat_minor": 4
}
