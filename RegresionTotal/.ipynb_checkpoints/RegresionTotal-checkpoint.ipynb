{
 "cells": [
  {
   "cell_type": "markdown",
   "metadata": {},
   "source": [
    "# Covid-19 infección en Ecuador. Modelos matemáticos y predicciones\n",
    "Una comparación de modelos, lineal, polilnomico,logísticos y exponenciales aplicados a la infección por el virus Covid-19\n",
    "\n",
    "Se realiza un análisis matemático simple del crecimiento de la infección en Python y dos modelos para comprender mejor la evolución de la infección.\n",
    "\n",
    "Se crea modelos de series temporales del número total de personas infectadas hasta la fecha (es decir, las personas realmente infectadas más las personas que han sido infectadas). Estos modelos tienen parámetros , que se estimarán por ajuste de curva."
   ]
  },
  {
   "cell_type": "code",
   "execution_count": 1,
   "metadata": {},
   "outputs": [],
   "source": [
    "# Importar las librerias para el analasis\n",
    "import pandas as pd\n",
    "import numpy as np\n",
    "from datetime import datetime,timedelta\n",
    "from sklearn.metrics import mean_squared_error\n",
    "from scipy.optimize import curve_fit\n",
    "from scipy.optimize import fsolve\n",
    "from sklearn import linear_model\n",
    "from sklearn.model_selection import train_test_split\n",
    "import matplotlib.pyplot as plt\n",
    "from sklearn.preprocessing import PolynomialFeatures\n",
    "%matplotlib inline\n"
   ]
  },
  {
   "cell_type": "markdown",
   "metadata": {},
   "source": [
    "Imprimimos los datos obtenidos de la siguinet paguina, nos da los datos mundiales pero solo filtre los de ecuador \n",
    "\n",
    "https://data.europa.eu/euodp/es/data/dataset/covid-19-coronavirus-data"
   ]
  },
  {
   "cell_type": "code",
   "execution_count": 2,
   "metadata": {},
   "outputs": [
    {
     "name": "stdout",
     "output_type": "stream",
     "text": [
      "       dateRep  day  month  year  cases  deaths countriesAndTerritories geoId  \\\n",
      "0   29/02/2020   29      2  2020      0       0                 Ecuador    EC   \n",
      "1   01/03/2020    1      3  2020      1       0                 Ecuador    EC   \n",
      "2   02/03/2020    2      3  2020      5       0                 Ecuador    EC   \n",
      "3   03/03/2020    3      3  2020      1       0                 Ecuador    EC   \n",
      "4   05/03/2020    5      3  2020      3       0                 Ecuador    EC   \n",
      "5   06/03/2020    6      3  2020      3       0                 Ecuador    EC   \n",
      "6   09/03/2020    9      3  2020      1       0                 Ecuador    EC   \n",
      "7   10/03/2020   10      3  2020      1       0                 Ecuador    EC   \n",
      "8   11/03/2020   11      3  2020      2       0                 Ecuador    EC   \n",
      "9   14/03/2020   14      3  2020      6       1                 Ecuador    EC   \n",
      "10  15/03/2020   15      3  2020      5       1                 Ecuador    EC   \n",
      "11  16/03/2020   16      3  2020      9       0                 Ecuador    EC   \n",
      "12  17/03/2020   17      3  2020     21       0                 Ecuador    EC   \n",
      "13  18/03/2020   18      3  2020     53       0                 Ecuador    EC   \n",
      "14  19/03/2020   19      3  2020     57       1                 Ecuador    EC   \n",
      "15  20/03/2020   20      3  2020     31       0                 Ecuador    EC   \n",
      "16  21/03/2020   21      3  2020    227       4                 Ecuador    EC   \n",
      "17  22/03/2020   22      3  2020    106       0                 Ecuador    EC   \n",
      "18  23/03/2020   23      3  2020    257       7                 Ecuador    EC   \n",
      "19  24/03/2020   24      3  2020    192       4                 Ecuador    EC   \n",
      "20  25/03/2020   25      3  2020    101       9                 Ecuador    EC   \n",
      "21  26/03/2020   26      3  2020    129       2                 Ecuador    EC   \n",
      "22  27/03/2020   27      3  2020    192       5                 Ecuador    EC   \n",
      "23  28/03/2020   28      3  2020    224       7                 Ecuador    EC   \n",
      "24  29/03/2020   29      3  2020    208       7                 Ecuador    EC   \n",
      "25  30/03/2020   30      3  2020     55      10                 Ecuador    EC   \n",
      "26  31/03/2020   31      3  2020     76       4                 Ecuador    EC   \n",
      "27  01/04/2020    1      4  2020    336      17                 Ecuador    EC   \n",
      "28  02/04/2020    2      4  2020    456      41                 Ecuador    EC   \n",
      "29  03/04/2020    3      4  2020    405       0                 Ecuador    EC   \n",
      "30  04/04/2020    4      4  2020    205      25                 Ecuador    EC   \n",
      "31  05/04/2020    5      4  2020     97      27                 Ecuador    EC   \n",
      "32  06/04/2020    6      4  2020    181       8                 Ecuador    EC   \n",
      "33  07/04/2020    7      4  2020    101      11                 Ecuador    EC   \n",
      "34  08/04/2020    8      4  2020    248      29                 Ecuador    EC   \n",
      "35  09/04/2020    9      4  2020    455      22                 Ecuador    EC   \n",
      "36  10/04/2020   10      4  2020    515      30                 Ecuador    EC   \n",
      "\n",
      "   countryterritoryCode  popData2018  incre  casosT  \n",
      "0                   ECU     17084357      1       0  \n",
      "1                   ECU     17084357      2       1  \n",
      "2                   ECU     17084357      3       6  \n",
      "3                   ECU     17084357      4       7  \n",
      "4                   ECU     17084357      5      10  \n",
      "5                   ECU     17084357      6      13  \n",
      "6                   ECU     17084357      7      14  \n",
      "7                   ECU     17084357      8      15  \n",
      "8                   ECU     17084357      9      17  \n",
      "9                   ECU     17084357     10      23  \n",
      "10                  ECU     17084357     11      28  \n",
      "11                  ECU     17084357     12      37  \n",
      "12                  ECU     17084357     13      58  \n",
      "13                  ECU     17084357     14     111  \n",
      "14                  ECU     17084357     15     168  \n",
      "15                  ECU     17084357     16     199  \n",
      "16                  ECU     17084357     17     426  \n",
      "17                  ECU     17084357     18     532  \n",
      "18                  ECU     17084357     19     789  \n",
      "19                  ECU     17084357     20     981  \n",
      "20                  ECU     17084357     21    1082  \n",
      "21                  ECU     17084357     22    1211  \n",
      "22                  ECU     17084357     23    1403  \n",
      "23                  ECU     17084357     24    1627  \n",
      "24                  ECU     17084357     25    1835  \n",
      "25                  ECU     17084357     26    1890  \n",
      "26                  ECU     17084357     27    1966  \n",
      "27                  ECU     17084357     28    2302  \n",
      "28                  ECU     17084357     29    2758  \n",
      "29                  ECU     17084357     30    3163  \n",
      "30                  ECU     17084357     31    3368  \n",
      "31                  ECU     17084357     32    3465  \n",
      "32                  ECU     17084357     33    3646  \n",
      "33                  ECU     17084357     34    3747  \n",
      "34                  ECU     17084357     35    3995  \n",
      "35                  ECU     17084357     36    4450  \n",
      "36                  ECU     17084357     37    4965  \n"
     ]
    }
   ],
   "source": [
    "# Actualizar los datos (URL)\n",
    "\n",
    "url = 'https://raw.githubusercontent.com/agustin-XP/SimulacionCuaderno/master/covisd.csv'\n",
    "\n",
    "df = pd.read_csv(url)\n",
    "print(df)"
   ]
  },
  {
   "cell_type": "markdown",
   "metadata": {},
   "source": [
    "Filtro los datos que son requerio en este caso son el dia y el total de infectados \n"
   ]
  },
  {
   "cell_type": "code",
   "execution_count": 3,
   "metadata": {},
   "outputs": [
    {
     "name": "stdout",
     "output_type": "stream",
     "text": [
      "    incre  casosT\n",
      "0       1       0\n",
      "1       2       1\n",
      "2       3       6\n",
      "3       4       7\n",
      "4       5      10\n",
      "5       6      13\n",
      "6       7      14\n",
      "7       8      15\n",
      "8       9      17\n",
      "9      10      23\n",
      "10     11      28\n",
      "11     12      37\n",
      "12     13      58\n",
      "13     14     111\n",
      "14     15     168\n",
      "15     16     199\n",
      "16     17     426\n",
      "17     18     532\n",
      "18     19     789\n",
      "19     20     981\n",
      "20     21    1082\n",
      "21     22    1211\n",
      "22     23    1403\n",
      "23     24    1627\n",
      "24     25    1835\n",
      "25     26    1890\n",
      "26     27    1966\n",
      "27     28    2302\n",
      "28     29    2758\n",
      "29     30    3163\n",
      "30     31    3368\n",
      "31     32    3465\n",
      "32     33    3646\n",
      "33     34    3747\n",
      "34     35    3995\n",
      "35     36    4450\n",
      "36     37    4965\n"
     ]
    }
   ],
   "source": [
    "df = df.loc[:,['incre','casosT']]\n",
    "print(df)"
   ]
  },
  {
   "cell_type": "code",
   "execution_count": 4,
   "metadata": {
    "scrolled": true
   },
   "outputs": [
    {
     "name": "stdout",
     "output_type": "stream",
     "text": [
      "(array([1.21788044e+02, 1.01887770e-01]), array([[ 3.82173706e+02, -9.42116728e-02],\n",
      "       [-9.42116728e-02,  2.37332891e-05]]))\n"
     ]
    }
   ],
   "source": [
    "x = list(df.iloc [:, 0]) # Fecha\n",
    "y = list(df.iloc [:, 1]) # Numero de casos\n",
    "def ecuacion(x,a,b):\n",
    "    return a*np.exp(b*x)\n",
    "calculo=curve_fit(ecuacion,x,y)\n",
    "print(calculo)\n",
    "preduccionX= list(range(min(x),max(x)+50))"
   ]
  },
  {
   "cell_type": "markdown",
   "metadata": {},
   "source": [
    "## Graficas"
   ]
  },
  {
   "cell_type": "code",
   "execution_count": 5,
   "metadata": {},
   "outputs": [
    {
     "data": {
      "image/png": "[encoded data removed]",
      "text/plain": [
       "<Figure size 504x504 with 1 Axes>"
      ]
     },
     "metadata": {
      "needs_background": "light"
     },
     "output_type": "display_data"
    }
   ],
   "source": [
    "# Implementar\n",
    "plt.rcParams['figure.figsize'] = [7, 7]\n",
    "plt.rc('font', size=14)\n",
    "plt.scatter(x,y,label=\"Datos Obtenidos\",color=\"blue\")\n",
    "plt.plot(df.loc[:,['incre']], df.loc[:,['casosT']])\n",
    "plt.plot(preduccionX, [ecuacion(i,calculo[0][0],calculo[0][1]) for i in preduccionX], label=\"Modelo Exponencial\",color=\"red\" )\n",
    "plt.legend()\n",
    "plt.xlabel(\"29 de Fefrero 2020 - 10 de Abril 2020\")\n",
    "plt.ylabel(\"Casos Totales\")\n",
    "plt.ylim((min(y)*1,max(y)*1.1))\n",
    "plt.show()"
   ]
  },
  {
   "cell_type": "code",
   "execution_count": 6,
   "metadata": {},
   "outputs": [
    {
     "name": "stdout",
     "output_type": "stream",
     "text": [
      "0        0\n",
      "1        1\n",
      "2        6\n",
      "3        7\n",
      "4       10\n",
      "5       13\n",
      "6       14\n",
      "7       15\n",
      "8       17\n",
      "9       23\n",
      "10      28\n",
      "11      37\n",
      "12      58\n",
      "13     111\n",
      "14     168\n",
      "15     199\n",
      "16     426\n",
      "17     532\n",
      "18     789\n",
      "19     981\n",
      "20    1082\n",
      "21    1211\n",
      "22    1403\n",
      "23    1627\n",
      "24    1835\n",
      "25    1890\n",
      "26    1966\n",
      "27    2302\n",
      "28    2758\n",
      "29    3163\n",
      "30    3368\n",
      "31    3465\n",
      "32    3646\n",
      "33    3747\n",
      "34    3995\n",
      "35    4450\n",
      "36    4965\n",
      "Name: casosT, dtype: int64\n"
     ]
    }
   ],
   "source": [
    "# Implementar Modelo Polinomail para realizar un prediccion \n",
    "x1= df['incre']\n",
    "y1= df['casosT']\n",
    "\n",
    "print(y1)\n",
    "X_train, X_test, y_train, y_test = train_test_split(x1, y1, test_size=0.25)\n",
    "X_train=X_train.values.reshape([X_train.values.shape[0],1])\n",
    "X_test=X_test.values.reshape([X_test.values.shape[0],1])\n"
   ]
  },
  {
   "cell_type": "markdown",
   "metadata": {},
   "source": [
    "Grfica de las predicciones"
   ]
  },
  {
   "cell_type": "code",
   "execution_count": 7,
   "metadata": {
    "scrolled": true
   },
   "outputs": [
    {
     "data": {
      "image/png": "[encoded data removed]",
      "text/plain": [
       "<Figure size 504x504 with 1 Axes>"
      ]
     },
     "metadata": {
      "needs_background": "light"
     },
     "output_type": "display_data"
    }
   ],
   "source": [
    "poli_reg=PolynomialFeatures(degree=7)\n",
    "X_train_poli = poli_reg.fit_transform(X_train)\n",
    "X_test_p = poli_reg.fit_transform(X_test)\n",
    "pr = linear_model.LinearRegression()\n",
    "pr.fit(X_train_poli, y_train)\n",
    "Y_predic = pr.predict(X_train_poli)\n",
    "xt,yt=zip(*sorted(zip(X_train,Y_predic)))\n",
    "    \n",
    "plt.xlabel(\"29/02/2020 - 10/04/2020\")\n",
    "plt.ylabel(\"Casos Totales\")\n",
    "plt.plot(xt, yt, color='red', label='Grado 7', lineWidth=3)\n",
    "plt.scatter(x1,y1, label=\"Modelo Polinomial\")\n",
    "plt.legend(loc=2)\n",
    "plt.show()"
   ]
  },
  {
   "cell_type": "markdown",
   "metadata": {},
   "source": [
    "## Análisis\n",
    " \n",
    " En los ya realizado se puede ver que el modelo Polinomio es una manera de simular una regresión lineal en donde las relaciones de las variables independiente X y la dependiente en este caso Y se modela como un polinomio de grado n en x.\n",
    " \n",
    " Un modelo exponencial puede llegar a ser robusto ya que proporciona una precisión razonable si las condiciones no llegan a ser cumplidas\n",
    "\n",
    "\n",
    "## Conclusiones\n",
    "\n",
    "Con la aplicación de diferentes métodos en los cuales se puede realizar la estimación o ajuste a los datos, en este caso baso en un Corpus de datos de personas que han contraído el virus y con lo que se puede adquirir datos que se acerquen a lo pronosticado.\n",
    "\n",
    "\n",
    "## Criterio personal (político, económico y social de la situación)\n",
    "\n",
    "Tomando en cuenta el factor político que se tiene en el país en control de la infección es bastante baja desde un punto de vista ya que la desinformación que se presenta la falta de orden social en las personas será la primera en mostrar un declive en el país, si no se respetan las leyes impuestas en esta situación, de tal modo que es ahí donde el factor económico llega a verse comprometido no solo por parte del gobierno si no de todas las personas, ya que esperar que la vida después de que esto acabe continua de una manera normal no va a ser de ese modo, esperar que las personas tomen conciencia ya que en este punto los que no lo han hecho serán los primeros en conos las consecuencias. \n",
    "\n"
   ]
  },
  {
   "cell_type": "markdown",
   "metadata": {},
   "source": [
    "# Referencias\n",
    "\n",
    "- https://www.researchgate.net/publication/340092755_Infeccion_del_Covid-19_en_Colombia_Una_comparacion_de_modelos_logisticos_y_exponenciales_aplicados_a_la_infeccion_por_el_virus_en_Colombia\n",
    "\n",
    "- https://www.aprendemachinelearning.com/regresion-lineal-en-espanol-con-python/"
   ]
  }
 ],
 "metadata": {
  "kernelspec": {
   "display_name": "Python 3",
   "language": "python",
   "name": "python3"
  },
  "language_info": {
   "codemirror_mode": {
    "name": "ipython",
    "version": 3
   },
   "file_extension": ".py",
   "mimetype": "text/x-python",
   "name": "python",
   "nbconvert_exporter": "python",
   "pygments_lexer": "ipython3",
   "version": "3.7.3"
  }
 },
 "nbformat": 4,
 "nbformat_minor": 2
}
