{
 "cells": [
  {
   "cell_type": "markdown",
   "metadata": {},
   "source": [
    "<img src=\"logo-catedra.png\" width=\"400\"> <img src=\"Logo-GIIATa-small.png\" width=\"100\"> \n",
    "<div style=\"text-align: right\"> _Por: V. Robles B._ </div>\n",
    "\n",
    "# Descenso por Gradiente: una breve introducción - Parte 1\n",
    "\n",
    "El descenso por gradiente, es un método que nos permite encontrar el mínimo local de una función dada. Este método parte de la selección de un valor inicial aleatorio y se toma el gradiente de dicha función en ese punto. Luego de elllo, se dan un paso hacia la dirección negativa del gradiente. Se repite el proceso hasta que el algoritmo converge cuando el valor del gradiente es **0** (lo que indica que hemos llegado al mínimo local) [1,2,3].\n",
    "\n",
    "## Descripción del algoritmo\n",
    "\n",
    "\n",
    "Los elementos más importantes de este algoritmo son los siguientes [3]:\n",
    "\n",
    "* ** Dirección y tamaño del paso: ** el primer elemento nos indica en qué dirección deberemos movernos para seguir buscando minimizar la función. El tamaño del paso especifica qué tanto nos movemos en la dirección dada. Con ello, partiremos de un punto arbritario $x^{(0)}$ y entonces en cada paso $k\\geq 0$ nos movemos de forma iterativa en la dirección $\\Delta x^{(k)}$ con un paso $t_{k}$ al siguiente punto $x^{(k+1)} = x^{(k)}+t_{k} \\cdot \\Delta x^{(k)}$.  En este método es importante considerar que nos movemos siempre en la dirección negativa (minimizar), por lo que tomamos el valor negativo del gradiente: $\\Delta x= - \\nabla f(x)$. Con ello, la búsqueda iterativa del descenso por gradiente se puede describir a través de la siguiente fórmula recursiva:\n",
    "\n",
    "<div style=\"text-align:center\">\n",
    "    <br />$x^{(k+1)}=x^{k}-t_{k} \\nabla f(x^{(k)})$\n",
    "    <br />\n",
    "</div>\n",
    "\n",
    "* ** Tamaño del paso: ** dado que deseamos minimizar la función, debemos escoger un valor que nos permite cumplir con la premisa de minimizar $f(x^{(k+1)})$. Dado que $x^{(k+1)}=x^{(k)}-t \\Delta f(x^{(k)})$, el tamaño del paso $t^{*}_{k}$ es una aproximación de:\n",
    "\n",
    " <div style=\"text-align:center\">\n",
    "    <br /> $t^{*}_{k} = arg\\,\\min\\limits_{t\\geq 0} f(x^{(k)}-t \\nabla f(x^{(k)}))$\n",
    "    <br />\n",
    " </div>\n",
    "\n",
    "* **Algoritm:** a continuación se detallan los pasos más importantes del algoritmo y se presenta un presenta un pseudo-código que describe cómo aplicarlo en base a una precisión $\\epsilon \\geq 0$ deseada[3]:\n",
    "\n",
    "![Algoritmo Descenso por Gradiente](Descenso-por-Gradiente.png)\n",
    "\n",
    "## Aplicaciones:\n",
    "\n",
    "Algunas de las diversas aplicaciones del método de descenso por gradiente son las que se señalan a continuación [2]:\n",
    "\n",
    "1. En el ámbito de la ingeniería, por ejemplo, minimmizar el consumo de combustible en un automóvil.\n",
    "2. En la economía, un caso concreto es la maximización de del retorno sobre la inversión.\n",
    "3. Logística en la cadena de suministros, minimizar el tiempo requerido para despachar una orden.\n"
   ]
  },
  {
   "cell_type": "markdown",
   "metadata": {},
   "source": [
    "## Ejemplo de aplicación:\n",
    "\n",
    "En el siguiente ejemplo vamos a ver cómo aplicar el algoritmo de descenso por gradiente para minimizar esta sencilla función:\n",
    "\n",
    "$y=x^{2}-2x+2$\n",
    "\n",
    "Para ello, graficamos la función, a fin de tener una idea más clara del lugar donde estará el punto que minimiza nuestra función. "
   ]
  },
  {
   "cell_type": "code",
   "execution_count": 1,
   "metadata": {},
   "outputs": [
    {
     "data": {
      "image/png": "[encoded data removed]",
      "text/plain": [
       "<Figure size 432x288 with 1 Axes>"
      ]
     },
     "metadata": {
      "needs_background": "light"
     },
     "output_type": "display_data"
    }
   ],
   "source": [
    "import matplotlib.pyplot as pp\n",
    "import numpy as np\n",
    "\n",
    "\n",
    "def fx(x):\n",
    "    return np.power(x,2)-np.dot(x,2.)+2.\n",
    "\n",
    "x=np.arange(-7,9.5,0.5)\n",
    "y=fx(x)\n",
    "\n",
    "pp.plot(x,y,c='red')\n",
    "pp.grid(True)\n",
    "pp.show()\n",
    "a = 23"
   ]
  },
  {
   "cell_type": "markdown",
   "metadata": {},
   "source": [
    "### Usando cálculo:\n",
    "\n",
    "Si recordamos **cálculo matemático** (ver este [enlace](http://tutorial.math.lamar.edu/Classes/CalcI/Optimization.aspx) si se desea repasar el concepto), para minimizar la función anterior:\n",
    "\n",
    "$\\hat{f}(x)= \\min\\limits_{x} x^{2}-2x+2$\n",
    "\n",
    "Simplemente derivamos dicha función con respecto a $x$ y despejamos $x$:\n",
    "\n",
    "$\\frac{df}{dx} = 2x-2$\n",
    "\n",
    "$2x=2$\n",
    "\n",
    "$x=1$\n",
    "\n",
    "Con ello, podemos observar dónde se ubica dicho valor $x=1$"
   ]
  },
  {
   "cell_type": "code",
   "execution_count": 2,
   "metadata": {},
   "outputs": [
    {
     "data": {
      "image/png": "[encoded data removed]",
      "text/plain": [
       "<Figure size 432x288 with 1 Axes>"
      ]
     },
     "metadata": {
      "needs_background": "light"
     },
     "output_type": "display_data"
    }
   ],
   "source": [
    "pp.plot(x,y)\n",
    "pp.plot([1],[1.-2.+2.],'ro')\n",
    "pp.grid(True)\n",
    "pp.show()"
   ]
  },
  {
   "cell_type": "markdown",
   "metadata": {},
   "source": [
    "### Usando el algoritmo de Descenso por Gradiente [3]:\n",
    "\n",
    "Dado que no conocemos el valor óptimo de $x$, seleccionamos un valor aleatorio: $x=3$ y hacemos $k\\leftarrow 0$, como nos indica el algoritmo. Si evaluamos la función original en este punto, observaremos que se obtiene el sigiuente valor: $f(3)=3^{2}-2\\cdot 3+2 = 5$\n",
    "\n",
    "Calculamos la derivada de la función $y=x^{2}-2x+2$ (una sola vez, ya que se usará en los siguientes pasos):\n",
    "\n",
    "$\\frac{df}{dx} = 2x-2$\n",
    "\n",
    "\n",
    "1. A fin de encontrar el siguiente punto $x^{(k+1)}$ debemos calcular:\n",
    "<div style=\"text-align:center\">\n",
    "    <br />$x^{(1)}=x^{(0)}-t^{*}_{0} \\nabla f(x^{(0)})$\n",
    "    <br />\n",
    "</div>\\_ \n",
    "2. Para encontrar el valor de $t^{*}_{0}$, debemos hallar el mínimo de la función $\\theta(t) = f(x^{(0)})-t \\nabla f(x^{(0)})$. Para realizar este paso, buscamos en el punto estacionario trabajando con la derivada de la función a minimizar:\n",
    "\n",
    "  - Como primer paso calculamos el valor de la derivada de la función a minimizar en el punto $x^{(0)}$:\n",
    "<div style=\"text-align:center\">\n",
    "    <br />$f^{'}(x^{(0)}) = 2\\cdot x^{(0)}-2$\n",
    "    <br />$f^{'}(3) = 2\\cdot 3-2$\n",
    "    <br />$f^{'}(3) = 4$\n",
    "</div>\\_\n",
    "  Este punto representará nuestro valor $\\nabla f\\left( x^{(0)} \\right)$\n",
    "  - Luego de ello, calculamos el valor de $t^{*}_{k}$ empleando el punto $x^{(0)}$, y la función de $t$ y en base a la derivada de la función a minimizar:\n",
    "<div style=\"text-align:center\">\n",
    "    <br />$\\theta^{'}(t)=-\\nabla f\\left( x^{(0)} - t \\nabla f(x^{(0)} \\right) \\nabla f(x^{(0)})$\n",
    "    <br />$=-\\nabla f\\left( \\mathbf(3)-t \\nabla f(x^{(0)}) \\right) \\nabla f(x^{(0)})$\n",
    "    <br />$=-\\nabla f\\left( 3-t \\nabla f(3) \\right) \\nabla f(x^{(0)})$\n",
    "    <br />$=-\\nabla f\\left( 3-t\\cdot (4) \\right) \\nabla f(x^{(0)})$\n",
    "    <br />$=-\\nabla f\\left( 3-4t \\right) \\nabla f(x^{(0)})$\n",
    "</div>\n",
    "\\_       \n",
    "   En este punto, sustituimos $4-4t$ por $x$ en la función a minimizar que derivamos previamente $f^{'}(x)=2x-2$ y sustituimos $\\nabla f(x^{(0)})$ por el valor que calculamos de la derivada $(4):$\n",
    "<div style=\"text-align:center\">\n",
    "    <br />$=-\\left( 2\\cdot(3-4t)-2 \\right)\\nabla f(x^{(0)})$\n",
    "    <br />$=-\\left( 2\\cdot(3-4t)-2 \\right)\\cdot (4)$\n",
    "    <br />$=-\\left( 6-8t-2 \\right)\\cdot (4)$\n",
    "    <br />$=-\\left( 4-8t \\right)\\cdot (4)$\n",
    "    <br />$=-16+32t$\n",
    "</div>\n",
    "\\_\n",
    "   En este caso, $\\theta^{'}(t)=0$ sí y solo sí $t=0.5$. Con ello, $t_{0}=0.5$\n",
    "3. Dado lo anterior, el siguiente punto $x^{(1)}$ será:\n",
    "<div style=\"text-align:center\">\n",
    "    <br />$x^{(1)}=x^{(0)}-t^{*}_{0} \\nabla f(x^{(0)})$\n",
    "    <br />$x^{(1)}=3-0.5 (4)$\n",
    "    <br />$x^{(1)}=1$\n",
    "</div>\n",
    "\n",
    "Si ahora evaluamos la función original con el nuevo punto $x=1$, obtenemos un valor menor, es decir, se ha minimizado la función: $f(1)=1^{2}-2\\cdot 1+2 = 1$\n",
    "\n",
    "Deberemos seguir repitiendo los pasos, hasta que el error obtenido sea menor al planteado en $\\epsilon$."
   ]
  },
  {
   "cell_type": "markdown",
   "metadata": {},
   "source": [
    "## Ejemplo resuelto usando [sympy](http://www.sympy.org/en/index.html)\n",
    "\n",
    "En esta sección se presenta un ejemplo de cálculo completo con una nueva función, y para ello se realizarán varias etapas a fin de buscar minimizarla:\n",
    "\n",
    "$\\frac{1}{2.3}x^{3}-3x+x^{2}-12.37$\n",
    "\n",
    "El valor de punto de partida será $x^{(0)}=5.7$\n",
    "\n",
    "Graficamos la función que se minimizará y el punto de partida:"
   ]
  },
  {
   "cell_type": "code",
   "execution_count": 3,
   "metadata": {},
   "outputs": [
    {
     "data": {
      "image/png": "[encoded data removed]",
      "text/plain": [
       "<Figure size 432x288 with 1 Axes>"
      ]
     },
     "metadata": {
      "needs_background": "light"
     },
     "output_type": "display_data"
    }
   ],
   "source": [
    "def fx2(x2):\n",
    "    return (1./2.3)*np.power(x2,3.)-3*x2+np.power(x2,2)-12.37\n",
    "\n",
    "x2=np.arange(-4,6,0.27)\n",
    "y2=fx2(x2)\n",
    "pp.plot(x2,y2,'r')\n",
    "pp.plot(5.7,fx2(5.7),'bo')\n",
    "pp.grid(True)\n",
    "pp.show()"
   ]
  },
  {
   "cell_type": "markdown",
   "metadata": {},
   "source": [
    "#### Resolución:\n",
    "\n",
    "* Calculamos la derivada de la función y evaluamos su valor en el punto $x^{(0)}$:"
   ]
  },
  {
   "cell_type": "code",
   "execution_count": 4,
   "metadata": {},
   "outputs": [
    {
     "name": "stdout",
     "output_type": "stream",
     "text": [
      "Derivada de la funcion:  1.30434782608696*x**2 + 2*x - 3\n",
      "Valor en x^(0): 50.7782608695652\n"
     ]
    }
   ],
   "source": [
    "from sympy import Symbol, Function, diff, solve\n",
    "\n",
    "x=Symbol('x')\n",
    "f=Function('f')(x)\n",
    "x0=5.7\n",
    "\n",
    "fx=(x**3)/2.3-3*x+x**2-12.37\n",
    "\n",
    "r=diff(fx)\n",
    "print(\"Derivada de la funcion: \",r)\n",
    "print(\"Valor en x^(0):\",r.subs(x,x0).evalf())\n"
   ]
  },
  {
   "cell_type": "markdown",
   "metadata": {},
   "source": [
    "Lo que nos da como resultado lo siguiente:\n",
    "\n",
    "$f^{'}(x) = 1.3x^{2}+2x-3$\n",
    "\n",
    "$\\nabla f(x^{(0)}) = 50.77$\n",
    "\n",
    "* A fin de de encontrar el valor de $t^{*}_{0}$ requerido para calcular el siguiente punto $x^{(1)}$, calculamos el valor de la siguiente función:\n",
    "\n",
    " <div style=\"text-align:center\">\n",
    "     $\\theta(t) = f(x^{(0)})-t \\nabla f(x^{(0)})$.\n",
    " </div> \n",
    " \n",
    " <div style=\"text-align:center\">\n",
    "    <br />$\\theta^{'}(t)=-\\nabla f\\left( x^{(0)} - t \\nabla f(x^{(0)} \\right) \\nabla f(x^{(0)})$\n",
    "    <br />$=-\\nabla f\\left( \\mathbf(5.7)-t \\nabla f(x^{0}) \\right) \\nabla f(x^{(0)})$\n",
    "    <br />$=-\\nabla f\\left( \\mathbf(5.7)-50.77\\cdot t \\right) 50.77$\n",
    " </div> \n",
    " \\_       \n",
    "   En este punto, sustituimos $(5.7-50.77\\cdot t)$ por $x$ en la función a minimizar que derivamos previamente $f^{'}(x) = 1.3x^{2}+2x-3$:\n",
    "   \n",
    "<div style=\"text-align:center\">\n",
    "    <br />$=-\\left( 1.3\\cdot(5.7-50.77t)^{2}+2 \\cdot (5.7-50.77t)-3 \\right)\\cdot 50.77$\n",
    "</div>\n",
    "\n",
    "   Aplicamos factoreo a la ecuación y calculamos las raíces:"
   ]
  },
  {
   "cell_type": "code",
   "execution_count": 5,
   "metadata": {},
   "outputs": [
    {
     "name": "stdout",
     "output_type": "stream",
     "text": [
      "-3350.87077*x**2 + 853.9514*x - 50.637\n",
      "Raices de la ecuacion: [0.0938835114298593, 0.160961112136451]\n"
     ]
    }
   ],
   "source": [
    "# Ingresamos la funcion en sympy y buscamos las raices:\n",
    "fp=-((1.3*(5.7-50.77*x)**2+2*(5.7-50.77*x)-3))\n",
    "print(fp.expand())\n",
    "\n",
    "print(\"Raices de la ecuacion:\" ,solve(fp))"
   ]
  },
  {
   "cell_type": "markdown",
   "metadata": {},
   "source": [
    "   No realizamos la multiplicación por $50.77$ ya que luego se igualará a $0$, con ello tenemos lo siguiente:\n",
    "   \n",
    "<div style=\"text-align:center\">\n",
    "    <br />$=-\\left( -17023.7x^{2}+43355.1x-2570.84 \\right)\\cdot 50.77$\n",
    "</div>\n",
    "\n",
    "   Y las raíces de la ecuación representarán 2 posibles valores para $t^{*}_{0}$:\n",
    "\n",
    "<div style=\"text-align:center\">\n",
    "    <br />$\\left[ 0.0938, 0.16 \\right]$\n",
    "</div>\n",
    "\n",
    "   Con ello, calculamos los dos posibles puntos $x^{(1)}$ y determinamos con cuál de los 2 se minimiza de mejor forma la función:\n",
    "\n",
    "<div style=\"text-align:center\">   \n",
    "   $\n",
    "       \\begin{split}\n",
    "           x^{(1)}=\\begin{cases}\n",
    "               5.7-0.0938\\cdot 50.77~ = & \\mathbf{1.003}\\\\\n",
    "               5.7-0.16\\cdot 50.77~ = & \\mathbf{-2.4}\n",
    "           \\end{cases}\n",
    "       \\end{split}\n",
    "   $\n",
    "</div>\n",
    "\n",
    "   De igual forma, evaluamos la función original con los dos nuevos puntos $x^{(1)}$ y en base a ello determinamos cuál es el que minimiza de mejor manera su valor:\n"
   ]
  },
  {
   "cell_type": "code",
   "execution_count": 6,
   "metadata": {},
   "outputs": [
    {
     "name": "stdout",
     "output_type": "stream",
     "text": [
      "Valores con de la funcion: [-13, -5]\n"
     ]
    }
   ],
   "source": [
    "v1=fx.subs(x,1.0035341247060474).evalf()\n",
    "v2=fx.subs(x,-2.4019956631675683).evalf()\n",
    "\n",
    "print(\"Valores con de la funcion: [%d, %d]\" % (v1,v2))"
   ]
  },
  {
   "cell_type": "markdown",
   "metadata": {},
   "source": [
    "   \n",
    "<div style=\"text-align:center\">   \n",
    "   $\n",
    "       \\begin{split}\n",
    "           f{(x)}=\\begin{cases}\n",
    "               f(1.003)~ = & \\mathbf{-13}\\\\\n",
    "               f(-2.4)~ = & \\mathbf{-5}\n",
    "           \\end{cases}\n",
    "       \\end{split}\n",
    "   $\n",
    "</div>\n",
    "   Con ello, determinamos que la mejor alternativa es la de la segunda raíz para calcular el punto $x^{(1)}=1.003$ y hacemos $k \\leftarrow k+1$ . \n",
    "   \n",
    "   "
   ]
  },
  {
   "cell_type": "code",
   "execution_count": 7,
   "metadata": {},
   "outputs": [
    {
     "data": {
      "image/png": "[encoded data removed]",
      "text/plain": [
       "<Figure size 432x288 with 1 Axes>"
      ]
     },
     "metadata": {
      "needs_background": "light"
     },
     "output_type": "display_data"
    }
   ],
   "source": [
    "pp.plot(x2,y2,'r')\n",
    "pp.plot(1.003,fx2(1.003),'bo')\n",
    "pp.grid(True)\n",
    "pp.show()"
   ]
  },
  {
   "cell_type": "markdown",
   "metadata": {},
   "source": [
    "## Boletín de prácticas 1\n",
    "### Objetivos:\n",
    "* Familiarizarse con los principales aspectos y etapas del método de descenso por gradiente.\n",
    "* Conocer y aplicar el método de descenso por gradiente para minimizar funciones sencillas.\n",
    "* Conocer cómo aplicar el proceso de descenso por gradiente de forma automatizada con soporte de **sympy** y **Jupyter Notebook*.\n",
    "\n",
    "### Enunciado:\n",
    "\n",
    "1. Seleccionar una función matemática para realizar el proceso de minimización. Ejecutar al menos **3 pasos** del método de descenso por gradiente. \n",
    "2. Diseñar y desarrollar un cuaderno en Jupyter Notebook donde se realicen todos los pasos correspondientes al proceso de minimización de la función a través del método de descenso por gradiente.\n",
    "3. El cuaderno deberá incluir los siguientes puntos:\n",
    "    1. Gráfica de la función y los puntos que se obtienen a medida que se ejecutan los pasos de cálculo (hasta $k=3$).\n",
    "    2. Aplicación de las funciones de derivación y evaluación de forma similar a la que se ha detallado en el presente cuaderno.\n",
    "    3. Incluir un acápite sobre las funciones cóncavas y los puntos estacionarios (incluir gráficos).\n",
    "    4. Emplear las funcionalidades que proveen los paquetes **matplotlib** y **sympy**.\n",
    "  \n",
    "  \n",
    "### Criterios de evaluación:\n",
    "Los criterios o rúbrica de evaluación del Boletín de Prácticas 1 son los siguientes:\n",
    "1. Adecuada complejidad de la función seleccionada para el proceso de minimización (procurar no usar funciones cóncavas).\n",
    "2. Correcta explicación y detalle de cada paso ejecutado con el método de descenso por gradiente.\n",
    "3. Verificación de la solución encontrada.\n",
    "4. Elementos extra: incluye recta (flecha) con la dirección del gradiente, animaciones, etc.\n",
    "\n",
    "### Prerrequisitos:\n",
    "A fin de poder realizar esta práctica, deberá contar con los siguientes prerrequisitos:\n",
    "1. Haber leído de forma completa el presente cuaderno.\n",
    "2. Tener instalados los siguientes paquetes en su computador:\n",
    "    1. Python 2.7+ (de preferencia 3.6+)\n",
    "    2. [Sympy](http://www.sympy.org)\n",
    "    3. [matplotlib](https://matplotlib.org/)\n",
    "\n",
    "\n",
    "### Detalles de la entrega:\n",
    "El cuaderno de Jupyter Notebook deberá ser cargado en el AVAC con todos los recursos necesarios (imágenes, enlaces, etc.) en un archivo comprimido, dentro de la tarea **Boletín de Prácticas 1: Descenso por gradiente f(x)**. Los detalles de la fecha y hora de entrega se encuentran especificados en el AVAC.\n",
    "\n",
    "\n",
    "### Algunos enlaces de utilidad:\n",
    "A continuación se presentan algunos enlaces que pueden resultar de utilidad:\n",
    "* Wiki con algunas funciones básicas de la librería [sympy](https://github.com/sympy/sympy/wiki/Quick-examples)\n",
    "* Un tutorial interactivo con ejemplos de técnicas de [optimización](http://www.benfrederickson.com/numerical-optimization/)."
   ]
  },
  {
   "cell_type": "markdown",
   "metadata": {},
   "source": [
    "## Ejercico que se eligio:\n",
    "\n",
    "### Funcion a minimizar\n",
    "$\\frac { { x }^{ 3 } }{ 30 } +\\frac { { x }^{ 2 } }{ 6 } +3$\n",
    "\n",
    "El valor de partida que se elige sera: ${ x }^{ (0) }=20$\n",
    "\n",
    "Graficamos la Funcion:\n"
   ]
  },
  {
   "cell_type": "code",
   "execution_count": 8,
   "metadata": {},
   "outputs": [
    {
     "data": {
      "image/png": "[encoded data removed]",
      "text/plain": [
       "<Figure size 432x288 with 1 Axes>"
      ]
     },
     "metadata": {
      "needs_background": "light"
     },
     "output_type": "display_data"
    }
   ],
   "source": [
    "def fx3(x3):\n",
    "    return (1./30)*np.power(x3,3)+(1./6)*np.power(x3,2)+3\n",
    "\n",
    "x3=np.arange(-10,25,0.27)\n",
    "y3=fx3(x3)\n",
    "pp.plot(x3,y3,'b')\n",
    "pp.plot(20,fx3(20),'go')\n",
    "pp.grid(True)\n",
    "pp.show()"
   ]
  },
  {
   "cell_type": "markdown",
   "metadata": {},
   "source": [
    "Resolucion:\n",
    "se calcula la derivada de la funcion y evaluamos su valor en el punto  ${ x }^{ (0) }$"
   ]
  },
  {
   "cell_type": "code",
   "execution_count": 9,
   "metadata": {},
   "outputs": [
    {
     "name": "stdout",
     "output_type": "stream",
     "text": [
      "Derivada de la funcion:  x**2/10 + x/3\n",
      "Valor en x^(0): 46.6666666666667\n"
     ]
    }
   ],
   "source": [
    "from sympy import Symbol, Function, diff, solve\n",
    "\n",
    "x=Symbol('x')\n",
    "f=Function('f')(x)\n",
    "x01=20\n",
    "\n",
    "fx2=(x**3)/30+(x**2)/6+3\n",
    "\n",
    "r2=diff(fx2)\n",
    "print(\"Derivada de la funcion: \",r2)\n",
    "print(\"Valor en x^(0):\",r2.subs(x,x01).evalf())"
   ]
  },
  {
   "cell_type": "markdown",
   "metadata": {},
   "source": [
    "El resultado es:\n",
    "<div>\n",
    "${ f }^{ ' }(x)=\\frac { { x }^{ 2 } }{ 10 } +\\frac { x }{ 3 } $\n",
    "    <div>\n",
    "           <div>\n",
    "$\\nabla f(x^{(0)}) = 46.66$\n",
    "               \n",
    "<div style=\"text-align:center\">\n",
    "     $\\theta(t) = f(x^{(0)})-t \\nabla f(x^{(0)})$.\n",
    " </div> \n",
    " \n",
    " <div style=\"text-align:center\">\n",
    "    <br />$\\theta^{'}(t)=-\\nabla f\\left( x^{(0)} - t \\nabla f(x^{(0)} \\right) \\nabla f(x^{(0)})$\n",
    "     \n",
    "<div>\n",
    "         \n",
    "<br />$=-\\nabla f\\left( \\mathbf(20)-t \\nabla f(x^{0}) \\right) \\nabla f(x^{(0)})$\n",
    "<br />$=-\\nabla f\\left( \\mathbf(20)-46.66\\cdot t \\right) 46.66$\n",
    " </div> \n",
    "     \n",
    " Sustituimos (20-46.66t) por x en la funcion a minimizar:\n",
    "     <div>\n",
    "${ f }^{ ' }(x)=\\frac { { x }^{ 2 } }{ 10 } +\\frac { x }{ 3 } $\n",
    "    <div>\n",
    "<br>\n",
    "$=(0.1{ (20-46.66t) }^{ 2 }+0.33(20-46.66t))*46.66$\n",
    "<br>\n",
    "        Aplicamos factoreo a la ecuación y calculamos las raíces:\n"
   ]
  },
  {
   "cell_type": "code",
   "execution_count": 10,
   "metadata": {},
   "outputs": [
    {
     "name": "stdout",
     "output_type": "stream",
     "text": [
      "-217.71556*x**2 + 202.0378*x - 46.6\n",
      "Raices de la ecuacion: [0.428632661808830, 0.499357051007287]\n"
     ]
    }
   ],
   "source": [
    "# Ingresamos la funcion en sympy y buscamos las raices:\n",
    "fp=-((0.1*(20-46.66*x)**2+0.33*(20-46.66*x)))\n",
    "print(fp.expand())\n",
    "\n",
    "print(\"Raices de la ecuacion:\" ,solve(fp))"
   ]
  },
  {
   "cell_type": "markdown",
   "metadata": {},
   "source": [
    "No realizamos la multiplicación por $46.66$ ya que luego se igualará a $0$, con ello tenemos lo siguiente:\n",
    "\n",
    "<br>\n",
    "\n",
    "$-(217.71556{ x }^{ 2 }-202.0378x+46.6)*46.66$<br>\n",
    "<br>\n",
    "Y las raices de la ecuacion representas 2 posibles valores para to:\n",
    "<br><br>\n",
    "[0.42, 0.49]\n",
    "<br><br>\n",
    "con ello calculamos los dos posibles puntos x1 y determinamos con cuál de los 2 se minimiza de mejor forma la función:\n",
    "<br><br>\n",
    "<div style=\"text-align:center\">   \n",
    "   $\n",
    "       \\begin{split}\n",
    "           x^{(1)}=\\begin{cases}\n",
    "               20-0.42\\cdot 46.66~ = & \\mathbf{0.4028}\\\\\n",
    "               20-0.49\\cdot 46.66~ = & \\mathbf{-2.86}\n",
    "           \\end{cases}\n",
    "       \\end{split}\n",
    "   $\n",
    "</div>\n",
    "<br><br>\n",
    "De igual forma, evaluamos la función original con los dos nuevos puntos $x^{(1)}$ y en base a ello determinamos cuál es el que minimiza de mejor manera su valor:\n",
    "\n"
   ]
  },
  {
   "cell_type": "code",
   "execution_count": 11,
   "metadata": {
    "scrolled": true
   },
   "outputs": [
    {
     "name": "stdout",
     "output_type": "stream",
     "text": [
      "Valores con de la funcion: [3, 3]\n"
     ]
    }
   ],
   "source": [
    "v1=fx2.subs(x,0.4058).evalf()\n",
    "v2=fx2.subs(x,-2.8634).evalf()\n",
    "\n",
    "print(\"Valores con de la funcion: [%d, %d]\" % (v1,v2))"
   ]
  },
  {
   "cell_type": "markdown",
   "metadata": {},
   "source": [
    "   \n",
    "<div style=\"text-align:center\">   \n",
    "   $\n",
    "       \\begin{split}\n",
    "           f{(x)}=\\begin{cases}\n",
    "               f(0.4028)~ = & \\mathbf{3}\\\\\n",
    "               f(-2.8634)~ = & \\mathbf{3}\n",
    "           \\end{cases}\n",
    "       \\end{split}\n",
    "   $\n",
    "</div>\n",
    "   Con ello, determinamos que la mejor alternativa es la de la segunda raíz para calcular el punto $x^{(1)}=0.4028$ y hacemos $k \\leftarrow k+1$ . \n",
    "   "
   ]
  },
  {
   "cell_type": "code",
   "execution_count": 12,
   "metadata": {},
   "outputs": [
    {
     "data": {
      "image/png": "[encoded data removed]",
      "text/plain": [
       "<Figure size 432x288 with 1 Axes>"
      ]
     },
     "metadata": {
      "needs_background": "light"
     },
     "output_type": "display_data"
    }
   ],
   "source": [
    "pp.plot(x3,y3,'b')\n",
    "pp.plot(0.4028,fx3(0.4028),'go')\n",
    "pp.grid(True)\n",
    "pp.show()"
   ]
  },
  {
   "cell_type": "markdown",
   "metadata": {},
   "source": [
    "## Segunda "
   ]
  },
  {
   "cell_type": "code",
   "execution_count": 13,
   "metadata": {},
   "outputs": [
    {
     "name": "stdout",
     "output_type": "stream",
     "text": [
      "Derivada de la funcion:  x**2/10 + x/3\n",
      "Valor en x^(1): 0.150491450666667\n"
     ]
    }
   ],
   "source": [
    "x=Symbol('x')\n",
    "f=Function('f')(x)\n",
    "x01=0.4028\n",
    "\n",
    "fx2=(x**3)/30+(x**2)/6+3\n",
    "\n",
    "r2=diff(fx2)\n",
    "print(\"Derivada de la funcion: \",r2)\n",
    "print(\"Valor en x^(1):\",r2.subs(x,x01).evalf())"
   ]
  },
  {
   "cell_type": "markdown",
   "metadata": {},
   "source": [
    "El resultado es:\n",
    "<div>\n",
    "${ f }^{ ' }(x)=\\frac { { x }^{ 2 } }{ 10 } +\\frac { x }{ 3 } $\n",
    "    <div>\n",
    "           <div>\n",
    "$\\nabla f(x^{(1)}) = 0.15049$\n",
    "               \n",
    "<div style=\"text-align:center\">\n",
    "     $\\theta(t) = f(x^{(1)})-t \\nabla f(x^{(1)})$.\n",
    " </div> \n",
    " \n",
    " <div style=\"text-align:center\">\n",
    "    <br />$\\theta^{'}(t)=-\\nabla f\\left( x^{(1)} - t \\nabla f(x^{(1)} \\right) \\nabla f(x^{(1)})$\n",
    "     \n",
    "<div>\n",
    "         \n",
    "<br />$=-\\nabla f\\left( \\mathbf(0.4028)-t \\nabla f(x^{1}) \\right) \\nabla f(x^{(1)})$\n",
    "<br />$=-\\nabla f\\left( \\mathbf(0.4028)-0.15049\\cdot t \\right) 0.15049$\n",
    " </div> \n",
    "     \n",
    " Sustituimos (0.4028-0.15049t) por x en la funcion a minimizar:\n",
    "     <div>\n",
    "${ f }^{ ' }(x)=\\frac { { x }^{ 2 } }{ 10 } +\\frac { x }{ 3 } $\n",
    "    <div>\n",
    "<br>\n",
    "$=(0.1{ (0.4028-0.15049t) }^{ 2 }+0.33(0.4028-0.15049t))*0.15049$\n",
    "<br>\n",
    "        Aplicamos factoreo a la ecuación y calculamos las raíces:"
   ]
  },
  {
   "cell_type": "code",
   "execution_count": 14,
   "metadata": {},
   "outputs": [
    {
     "name": "stdout",
     "output_type": "stream",
     "text": [
      "-0.00226476767237579*x**2 + 0.0617857699857068*x - 0.149148784\n",
      "Raices de la ecuacion: [2.67656400556725, 24.6047199598173]\n"
     ]
    }
   ],
   "source": [
    "# Ingresamos la funcion en sympy y buscamos las raices:\n",
    "fp=-((0.1*(0.4028-0.150491450666667*x)**2+0.33*(0.4028-0.150491450666667*x)))\n",
    "print(fp.expand())\n",
    "\n",
    "print(\"Raices de la ecuacion:\" ,solve(fp))"
   ]
  },
  {
   "cell_type": "markdown",
   "metadata": {},
   "source": [
    "No realizamos la multiplicación por $0.15049$ ya que luego se igualará a $0$, con ello tenemos lo siguiente:\n",
    "\n",
    "<br>\n",
    "\n",
    "$-(0.00226476767237{ x }^{ 2 }+ 0.06178576998x- 0.149148784)*0.15049$<br>\n",
    "<br>\n",
    "Y las raices de la ecuacion representas 2 posibles valores para to:\n",
    "<br><br>\n",
    "[2.676564,24.6047]\n",
    "<br><br>\n",
    "con ello calculamos los dos posibles puntos x1 y determinamos con cuál de los 2 se minimiza de mejor forma la función:\n",
    "<br><br>\n",
    "<div style=\"text-align:center\">   \n",
    "   $\n",
    "       \\begin{split}\n",
    "           x^{(2)}=\\begin{cases}\n",
    "               0.4028-2.676564\\cdot0.1504~ = & \\mathbf{0.0002447744}\\\\\n",
    "               0.4028-24.604\\cdot0.1504~ = & \\mathbf{-3.2976}\n",
    "           \\end{cases}\n",
    "       \\end{split}\n",
    "   $\n",
    "</div>\n",
    "<br><br>\n",
    "De igual forma, evaluamos la función original con los dos nuevos puntos $x^{(1)}$ y en base a ello determinamos cuál es el que minimiza de mejor manera su valor:"
   ]
  },
  {
   "cell_type": "code",
   "execution_count": 15,
   "metadata": {},
   "outputs": [
    {
     "name": "stdout",
     "output_type": "stream",
     "text": [
      "Valores con de la funcion: [3, 3]\n"
     ]
    }
   ],
   "source": [
    "v1=fx2.subs(x,0.0002447744).evalf()\n",
    "v2=fx2.subs(x,(-3.2976)).evalf()\n",
    "\n",
    "print(\"Valores con de la funcion: [%d, %d]\" % (v1,v2))"
   ]
  },
  {
   "cell_type": "markdown",
   "metadata": {},
   "source": [
    "<div style=\"text-align:center\">   \n",
    "   $\n",
    "       \\begin{split}\n",
    "           f{(x)}=\\begin{cases}\n",
    "               f(0.0002447)~ = & \\mathbf{3}\\\\\n",
    "               f(-3.29)~ = & \\mathbf{3}\n",
    "           \\end{cases}\n",
    "       \\end{split}\n",
    "   $\n",
    "</div>\n",
    "   Con ello, determinamos que la mejor alternativa es la de la segunda raíz para calcular el punto $x^{(2)}=2.67$ y hacemos $k \\leftarrow k+2$ . "
   ]
  },
  {
   "cell_type": "code",
   "execution_count": 16,
   "metadata": {},
   "outputs": [
    {
     "data": {
      "image/png": "[encoded data removed]",
      "text/plain": [
       "<Figure size 432x288 with 1 Axes>"
      ]
     },
     "metadata": {
      "needs_background": "light"
     },
     "output_type": "display_data"
    }
   ],
   "source": [
    "pp.plot(x3,y3,'b')\n",
    "pp.plot(0.0002447,fx3(0.0002447),'go')\n",
    "pp.grid(True)\n",
    "pp.show()"
   ]
  },
  {
   "cell_type": "markdown",
   "metadata": {},
   "source": [
    "## Tercera"
   ]
  },
  {
   "cell_type": "code",
   "execution_count": 17,
   "metadata": {},
   "outputs": [
    {
     "name": "stdout",
     "output_type": "stream",
     "text": [
      "Derivada de la funcion:  x**2/10 + x/3\n",
      "Valor en x^(2): 8.15726544756667e-5\n"
     ]
    }
   ],
   "source": [
    "x=Symbol('x')\n",
    "f=Function('f')(x)\n",
    "x01=0.0002447\n",
    "\n",
    "fx2=(x**3)/30+(x**2)/6+3\n",
    "\n",
    "r2=diff(fx2)\n",
    "print(\"Derivada de la funcion: \",r2)\n",
    "print(\"Valor en x^(2):\",r2.subs(x,x01).evalf())"
   ]
  },
  {
   "cell_type": "markdown",
   "metadata": {},
   "source": [
    "El resultado es:\n",
    "<div>\n",
    "${ f }^{ ' }(x)=\\frac { { x }^{ 2 } }{ 10 } +\\frac { x }{ 3 } $\n",
    "    <div>\n",
    "           <div>\n",
    "$\\nabla f(x^{(2)}) = 1.6028$\n",
    "               \n",
    "<div style=\"text-align:center\">\n",
    "     $\\theta(t) = f(x^{(1)})-t \\nabla f(x^{(1)})$.\n",
    " </div> \n",
    " \n",
    " <div style=\"text-align:center\">\n",
    "    <br />$\\theta^{'}(t)=-\\nabla f\\left( x^{(2)} - t \\nabla f(x^{(2)} \\right) \\nabla f(x^{(2)})$\n",
    "     \n",
    "<div>\n",
    "         \n",
    "<br />$=-\\nabla f\\left( \\mathbf(2.67)-t \\nabla f(x^{2}) \\right) \\nabla f(x^{(1)})$\n",
    "<br />$=-\\nabla f\\left( \\mathbf(2.67)-1.6028\\cdot t \\right) 1.6028$\n",
    " </div> \n",
    "     \n",
    " Sustituimos (2.678-1.6028t) por x en la funcion a minimizar:\n",
    "     <div>\n",
    "${ f }^{ ' }(x)=\\frac { { x }^{ 2 } }{ 10 } +\\frac { x }{ 3 } $\n",
    "    <div>\n",
    "<br>\n",
    "$=(0.1{ (2.678-1.6028t) }^{ 2 }+0.33(2.678-1.6028t))*1.6028$\n",
    "<br>\n",
    "        Aplicamos factoreo a la ecuación y calculamos las raíces:"
   ]
  },
  {
   "cell_type": "code",
   "execution_count": 18,
   "metadata": {},
   "outputs": [
    {
     "name": "stdout",
     "output_type": "stream",
     "text": [
      "-0.256896784*x**2 + 1.3848192*x - 1.59399\n",
      "Raices de la ecuacion: [1.66583478911904, 3.72473171949089]\n"
     ]
    }
   ],
   "source": [
    "# Ingresamos la funcion en sympy y buscamos las raices:\n",
    "fp=-((0.1*(2.67-1.6028*x)**2+0.33*(2.67-1.6028*x)))\n",
    "print(fp.expand())\n",
    "\n",
    "print(\"Raices de la ecuacion:\" ,solve(fp))"
   ]
  },
  {
   "cell_type": "markdown",
   "metadata": {},
   "source": [
    "No realizamos la multiplicación por $1.6028$ ya que luego se igualará a $0$, con ello tenemos lo siguiente:\n",
    "\n",
    "<br>\n",
    "\n",
    "$-(0.256896784{ x }^{ 2 }+ 1.38481928x- 1.59399)*$<br>\n",
    "<br>\n",
    "Y las raices de la ecuacion representas 2 posibles valores para to:\n",
    "<br><br>\n",
    "[1.66583478911904, 3.72473171949089]\n",
    "<br><br>\n",
    "con ello calculamos los dos posibles puntos x1 y determinamos con cuál de los 2 se minimiza de mejor forma la función:\n",
    "<br><br>\n",
    "<div style=\"text-align:center\">   \n",
    "   $\n",
    "       \\begin{split}\n",
    "           x^{(2)}=\\begin{cases}\n",
    "               2.67-1.66583\\cdot1.6028~ = & \\mathbf{0.000007676}\\\\\n",
    "               2.67-3.724\\cdot1.6028~ = & \\mathbf{-3.2988}\n",
    "           \\end{cases}\n",
    "       \\end{split}\n",
    "   $\n",
    "</div>\n",
    "<br><br>\n",
    "De igual forma, evaluamos la función original con los dos nuevos puntos $x^{(2)}$ y en base a ello determinamos cuál es el que minimiza de mejor manera su valor:"
   ]
  },
  {
   "cell_type": "code",
   "execution_count": 19,
   "metadata": {},
   "outputs": [
    {
     "name": "stdout",
     "output_type": "stream",
     "text": [
      "Valores con de la funcion: [3, 3]\n"
     ]
    }
   ],
   "source": [
    "v1=fx2.subs(x,0.000007676).evalf()\n",
    "v2=fx2.subs(x,-3.2988).evalf()\n",
    "\n",
    "print(\"Valores con de la funcion: [%d, %d]\" % (v1,v2))"
   ]
  },
  {
   "cell_type": "markdown",
   "metadata": {},
   "source": [
    "<div style=\"text-align:center\">   \n",
    "   $\n",
    "       \\begin{split}\n",
    "           f{(x)}=\\begin{cases}\n",
    "               f(0.000007676)~ = & \\mathbf{3}\\\\\n",
    "               f(-3.29)~ = & \\mathbf{3}\n",
    "           \\end{cases}\n",
    "       \\end{split}\n",
    "   $\n",
    "</div>\n",
    "   Con ello, determinamos que la mejor alternativa es la de la segunda raíz para calcular el punto $x^{(2)}=2.67$ y hacemos $k \\leftarrow k+3$ ."
   ]
  },
  {
   "cell_type": "code",
   "execution_count": 20,
   "metadata": {
    "scrolled": true
   },
   "outputs": [
    {
     "data": {
      "image/png": "[encoded data removed]",
      "text/plain": [
       "<Figure size 432x288 with 1 Axes>"
      ]
     },
     "metadata": {
      "needs_background": "light"
     },
     "output_type": "display_data"
    }
   ],
   "source": [
    "pp.plot(x3,y3,'b')\n",
    "pp.plot(3,fx3(3),'go')\n",
    "pp.grid(True)\n",
    "pp.show()"
   ]
  },
  {
   "cell_type": "code",
   "execution_count": null,
   "metadata": {},
   "outputs": [],
   "source": []
  },
  {
   "cell_type": "markdown",
   "metadata": {},
   "source": [
    "## Referencias\n",
    "1. [Nedrich Matt, An Introduction to Gradient Descent and Linear Regression, Atomic Object, 2014.](https://spin.atomicobject.com/2014/06/24/gradient-descent-linear-regression/)\n",
    "2. [Renjie Liao, CSC 411 Tutorial: Optimization for Machine Learning, Torondo University, 2016.](https://www.cs.toronto.edu/~urtasun/courses/CSC411_Fall16/tutorial2.pdf)\n",
    "3. [Singer Yaron, Advanced Optimization: Lecture 9, Harvard University, 2016](https://people.seas.harvard.edu/~yaron/AM221-S16/lecture_notes/AM221_lecture9.pdf)"
   ]
  }
 ],
 "metadata": {
  "kernelspec": {
   "display_name": "Python 3",
   "language": "python",
   "name": "python3"
  },
  "language_info": {
   "codemirror_mode": {
    "name": "ipython",
    "version": 3
   },
   "file_extension": ".py",
   "mimetype": "text/x-python",
   "name": "python",
   "nbconvert_exporter": "python",
   "pygments_lexer": "ipython3",
   "version": "3.7.3"
  }
 },
 "nbformat": 4,
 "nbformat_minor": 2
}
